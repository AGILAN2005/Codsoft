{
 "cells": [
  {
   "cell_type": "code",
   "execution_count": 1,
   "id": "c0d729c4-0783-40ba-bd37-1455e611cc64",
   "metadata": {},
   "outputs": [],
   "source": [
    "import pandas as pd\n",
    "from sklearn.pipeline import Pipeline\n",
    "from sklearn.feature_extraction.text import TfidfVectorizer, CountVectorizer\n",
    "from sklearn.naive_bayes import MultinomialNB\n",
    "from sklearn.multioutput import MultiOutputClassifier\n",
    "from sklearn.metrics import accuracy_score, precision_score, recall_score, f1_score\n",
    "from tqdm import tqdm\n",
    "from sklearn.preprocessing import MultiLabelBinarizer"
   ]
  },
  {
   "cell_type": "code",
   "execution_count": 2,
   "id": "a5ff7934-bd2d-4434-b855-4f515a23dda1",
   "metadata": {},
   "outputs": [],
   "source": [
    "genre_list = [ 'action', 'adult', 'adventure', 'animation', 'biography', \n",
    "              'comedy','crime','documentary','family','fantasy',\n",
    "              'game-show','history','horror','music','musical',\n",
    "              \"mystery\",'news','reality-tv','romance','scifi',\n",
    "              'sport','talk-show','thriller','war','western' ]\n",
    "fallback_genre = 'Unknown'"
   ]
  },
  {
   "cell_type": "code",
   "execution_count": 3,
   "id": "ce350636-80d7-417c-bb0b-cb145c12769d",
   "metadata": {},
   "outputs": [
    {
     "name": "stderr",
     "output_type": "stream",
     "text": [
      "Loading Train Data: 100%|███████████████████████████████████████████████████████████| 100/100 [00:00<00:00, 172.68it/s]\n"
     ]
    }
   ],
   "source": [
    "try:\n",
    "    with tqdm(total=100, desc=\"Loading Train Data\") as pbar:\n",
    "        train_data = pd.read_csv('train_data.txt', sep=':::', header=None, names=['SerialNumber', 'MOVIE_NAME', 'GENRE', 'MOVIE_PLOT'], engine='python')\n",
    "        pbar.update(100)\n",
    "except Exception as e:\n",
    "    print(f\"Error loading train_data: {e}\")\n",
    "    raise\n"
   ]
  },
  {
   "cell_type": "code",
   "execution_count": 4,
   "id": "5479b0cf-1b83-422a-aba6-1e662a7eeb3a",
   "metadata": {},
   "outputs": [
    {
     "data": {
      "text/plain": [
       "array([[0, 0, 0, ..., 0, 0, 0],\n",
       "       [0, 0, 0, ..., 1, 0, 0],\n",
       "       [0, 1, 0, ..., 0, 0, 0],\n",
       "       ...,\n",
       "       [0, 0, 0, ..., 0, 0, 0],\n",
       "       [0, 0, 0, ..., 0, 0, 0],\n",
       "       [0, 0, 0, ..., 0, 0, 0]])"
      ]
     },
     "execution_count": 4,
     "metadata": {},
     "output_type": "execute_result"
    }
   ],
   "source": [
    "X_train = train_data['MOVIE_PLOT'].astype(str).apply(lambda doc: doc.lower())\n",
    "genre_labels = [genre.split(',') for genre in train_data['GENRE']]\n",
    "mlb = MultiLabelBinarizer()\n",
    "y_train = mlb.fit_transform(genre_labels)\n",
    "y_train"
   ]
  },
  {
   "cell_type": "code",
   "execution_count": 5,
   "id": "9878b59c-0860-4aa9-9906-ac8fc185f389",
   "metadata": {},
   "outputs": [
    {
     "data": {
      "text/plain": [
       "0         listening in to a conversation between his do...\n",
       "1         a brother and sister with a past incestuous r...\n",
       "2         as the bus empties the students for their fie...\n",
       "3         to help their unemployed father make ends mee...\n",
       "4         the film's title refers not only to the un-re...\n",
       "                               ...                        \n",
       "54209     this short-lived nbc live sitcom centered on ...\n",
       "54210     the next generation of exploitation. the sist...\n",
       "54211     ze bestaan echt, is a stand-up comedy about g...\n",
       "54212     walter and vivian live in the country and hav...\n",
       "54213     on labor day weekend, 1935, the most intense ...\n",
       "Name: MOVIE_PLOT, Length: 54214, dtype: object"
      ]
     },
     "execution_count": 5,
     "metadata": {},
     "output_type": "execute_result"
    }
   ],
   "source": [
    "X_train"
   ]
  },
  {
   "cell_type": "code",
   "execution_count": 6,
   "id": "02c49d23-c1b6-4d1b-8221-52c8223a4e1e",
   "metadata": {},
   "outputs": [],
   "source": [
    "tfidf_pipeline = Pipeline([\n",
    "    ('vectorizer', TfidfVectorizer(max_features=5000)),\n",
    "    ('classifier', MultiOutputClassifier(MultinomialNB()))\n",
    "])\n"
   ]
  },
  {
   "cell_type": "code",
   "execution_count": 7,
   "id": "e28520a6-c4cf-4626-a6b2-f6dc825ea0ae",
   "metadata": {},
   "outputs": [],
   "source": [
    "count_pipeline = Pipeline([\n",
    "    ('vectorizer', CountVectorizer(max_features=5000)),\n",
    "    ('classifier', MultiOutputClassifier(MultinomialNB()))\n",
    "])"
   ]
  },
  {
   "cell_type": "code",
   "execution_count": 8,
   "id": "cde20384-ee02-4d07-ae5a-5485bf345020",
   "metadata": {},
   "outputs": [
    {
     "name": "stderr",
     "output_type": "stream",
     "text": [
      "Training Models: 100%|███████████████████████████████████████████████████████████████| 100/100 [00:14<00:00,  6.79it/s]\n"
     ]
    }
   ],
   "source": [
    "with tqdm(total=100, desc=\"Training Models\") as pbar:\n",
    "    tfidf_pipeline.fit(X_train, y_train)\n",
    "    count_pipeline.fit(X_train, y_train)\n",
    "    pbar.update(100)"
   ]
  },
  {
   "cell_type": "code",
   "execution_count": 9,
   "id": "102bd155-ae98-48d8-b80f-501e61043776",
   "metadata": {},
   "outputs": [
    {
     "name": "stderr",
     "output_type": "stream",
     "text": [
      "Loading Test Data: 100%|████████████████████████████████████████████████████████████| 100/100 [00:00<00:00, 238.30it/s]\n"
     ]
    }
   ],
   "source": [
    "# Load the test data\n",
    "try:\n",
    "    with tqdm(total=100, desc=\"Loading Test Data\") as pbar:\n",
    "        test_data = pd.read_csv('test_data.txt', sep=':::', header=None, names=['SerialNumber', 'MOVIE_NAME', 'MOVIE_PLOT'], engine='python')\n",
    "        pbar.update(100)\n",
    "except Exception as e:\n",
    "    print(f\"Error loading test_data: {e}\")\n",
    "    raise\n"
   ]
  },
  {
   "cell_type": "code",
   "execution_count": 10,
   "id": "ee49ddf9-8617-45ad-aa90-908813a48a78",
   "metadata": {},
   "outputs": [],
   "source": [
    "# Data preprocessing for test data\n",
    "X_test = test_data['MOVIE_PLOT'].astype(str).apply(lambda doc: doc.lower())\n"
   ]
  },
  {
   "cell_type": "code",
   "execution_count": 11,
   "id": "fac68aed-64ef-4eec-9fc1-b9a6b2a73534",
   "metadata": {},
   "outputs": [
    {
     "name": "stderr",
     "output_type": "stream",
     "text": [
      "Predicting on Test Data: 100%|███████████████████████████████████████████████████████| 100/100 [00:13<00:00,  7.34it/s]\n"
     ]
    }
   ],
   "source": [
    "# Predict on the test data\n",
    "with tqdm(total=100, desc=\"Predicting on Test Data\") as pbar:\n",
    "    tfidf_pred = tfidf_pipeline.predict(X_test)\n",
    "    count_pred = count_pipeline.predict(X_test)\n",
    "    pbar.update(100)\n"
   ]
  },
  {
   "cell_type": "code",
   "execution_count": 12,
   "id": "c092c9a1-3e49-4c2f-862d-9e22d7b34454",
   "metadata": {},
   "outputs": [],
   "source": [
    "# Evaluate the models\n",
    "tfidf_accuracy = accuracy_score(y_train, tfidf_pipeline.predict(X_train))\n",
    "tfidf_precision = precision_score(y_train, tfidf_pipeline.predict(X_train), average='micro')\n",
    "tfidf_recall = recall_score(y_train, tfidf_pipeline.predict(X_train), average='micro')\n",
    "tfidf_f1 = f1_score(y_train, tfidf_pipeline.predict(X_train), average='micro')"
   ]
  },
  {
   "cell_type": "code",
   "execution_count": 13,
   "id": "2d43cac2-dbfc-4e20-8f0a-9cbc5dce99dd",
   "metadata": {},
   "outputs": [],
   "source": [
    "count_accuracy = accuracy_score(y_train, count_pipeline.predict(X_train))\n",
    "count_precision = precision_score(y_train, count_pipeline.predict(X_train), average='micro')\n",
    "count_recall = recall_score(y_train, count_pipeline.predict(X_train), average='micro')\n",
    "count_f1 = f1_score(y_train, count_pipeline.predict(X_train), average='micro')"
   ]
  },
  {
   "cell_type": "code",
   "execution_count": null,
   "id": "fbfa8c0c-5227-42ac-8710-bf5bc7f3d981",
   "metadata": {},
   "outputs": [],
   "source": [
    "import csv"
   ]
  },
  {
   "cell_type": "code",
   "execution_count": 14,
   "id": "34ac5522-4652-4cf0-a71e-a1049b945ebc",
   "metadata": {},
   "outputs": [
    {
     "name": "stdout",
     "output_type": "stream",
     "text": [
      "TF-IDF Vectorizer Model Evaluation:\n",
      "Accuracy: 0.28\n",
      "Precision: 0.72\n",
      "Recall: 0.28\n",
      "F1-score: 0.40\n"
     ]
    }
   ],
   "source": [
    "# Print the evaluation metrics\n",
    "print(\"TF-IDF Vectorizer Model Evaluation:\")\n",
    "print(f\"Accuracy: {tfidf_accuracy:.2f}\")\n",
    "print(f\"Precision: {tfidf_precision:.2f}\")\n",
    "print(f\"Recall: {tfidf_recall:.2f}\")\n",
    "print(f\"F1-score: {tfidf_f1:.2f}\")\n"
   ]
  },
  {
   "cell_type": "code",
   "execution_count": 15,
   "id": "2a01918a-b1a9-457c-a71c-edcea0942074",
   "metadata": {},
   "outputs": [
    {
     "name": "stdout",
     "output_type": "stream",
     "text": [
      "\n",
      "Count Vectorizer Model Evaluation:\n",
      "Accuracy: 0.19\n",
      "Precision: 0.32\n",
      "Recall: 0.78\n",
      "F1-score: 0.45\n"
     ]
    }
   ],
   "source": [
    "print(\"\\nCount Vectorizer Model Evaluation:\")\n",
    "print(f\"Accuracy: {count_accuracy:.2f}\")\n",
    "print(f\"Precision: {count_precision:.2f}\")\n",
    "print(f\"Recall: {count_recall:.2f}\")\n",
    "print(f\"F1-score: {count_f1:.2f}\")"
   ]
  },
  {
   "cell_type": "code",
   "execution_count": 29,
   "id": "56f6160a-644c-4daa-a044-03c4c6b52e09",
   "metadata": {},
   "outputs": [],
   "source": [
    "metrics = {\n",
    "    \"Accuracy\": tfidf_accuracy * 100,\n",
    "    \"Precision\": tfidf_precision,\n",
    "    \"Recall\": tfidf_recall,\n",
    "    \"F1-score\":tfidf_f1\n",
    "}\n"
   ]
  },
  {
   "cell_type": "code",
   "execution_count": 34,
   "id": "7e9570cf-a179-4a27-b829-444451a4d41f",
   "metadata": {},
   "outputs": [],
   "source": [
    "# Opening the CSV file in append mode\n",
    "with open(\"movie_genre_model_evaluation.csv\", \"a\", newline='', encoding=\"utf-8\") as output_file:\n",
    "    csv_writer = csv.writer(output_file)\n",
    "    output_file.write(\"\\n\\nModel Evaluation Metrics: \\n\")\n",
    "    for metric, value in metrics.items():\n",
    "        output_file.write(f\"{metric}: {value:.2f}\\n\")"
   ]
  }
 ],
 "metadata": {
  "kernelspec": {
   "display_name": "Python 3 (ipykernel)",
   "language": "python",
   "name": "python3"
  },
  "language_info": {
   "codemirror_mode": {
    "name": "ipython",
    "version": 3
   },
   "file_extension": ".py",
   "mimetype": "text/x-python",
   "name": "python",
   "nbconvert_exporter": "python",
   "pygments_lexer": "ipython3",
   "version": "3.12.2"
  }
 },
 "nbformat": 4,
 "nbformat_minor": 5
}
